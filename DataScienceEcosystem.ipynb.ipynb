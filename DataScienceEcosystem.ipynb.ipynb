{
 "cells": [
  {
   "cell_type": "markdown",
   "id": "7db84365-2897-44fa-af0c-a64d733e3ecc",
   "metadata": {},
   "source": [
    "Data Science Tools and Ecosystem"
   ]
  },
  {
   "cell_type": "markdown",
   "id": "eb1ea96f-f3f6-42b0-a6e2-b17027f71511",
   "metadata": {},
   "source": [
    "## Author:\n",
    "Michael Lannert"
   ]
  },
  {
   "cell_type": "markdown",
   "id": "806eb9b6-549f-4765-afb7-885b3e54edb4",
   "metadata": {},
   "source": [
    "**Objextives:**\n",
    "1. List popluar Languages for Data Science\n",
    "2. List commonly used libraries\n",
    "3. Create a table"
   ]
  },
  {
   "cell_type": "markdown",
   "id": "b571270c-fbb3-4539-9484-210d1702c574",
   "metadata": {},
   "source": [
    "In this notebook, Data Science Tools and Ecosystem are summarized."
   ]
  },
  {
   "cell_type": "markdown",
   "id": "22b63df6-64d9-4ced-b21a-7bfe7bb2d4c8",
   "metadata": {},
   "source": [
    "Some of the popular languages that Data Scientists use are:\n",
    "\n",
    "1. R\n",
    "2. Python\n",
    "3. Java\n",
    "4. C, C+, C++"
   ]
  },
  {
   "cell_type": "markdown",
   "id": "7f49db6e-8d94-4b54-b964-c1a35c29a593",
   "metadata": {},
   "source": [
    "Some of the commonly used libraries used by Data Scientists include:\n",
    "\n",
    "1. Matplotlib\n",
    "2. Scikit-learn\n",
    "3. SciPy\n",
    "4. Pandas"
   ]
  },
  {
   "cell_type": "markdown",
   "id": "dfa77407-2035-4bc2-8ed1-3822a4753b08",
   "metadata": {},
   "source": [
    "|Data Science Tools|\n",
    "|---|\n",
    "|Jupyter Notebook|\n",
    "|VS Code|\n",
    "|PyTorch|\n"
   ]
  },
  {
   "cell_type": "markdown",
   "id": "b5d2a1ae-57ca-4c09-800c-300479f07749",
   "metadata": {},
   "source": [
    "Below are a few examples of evaluating arithmetic expressions in Python."
   ]
  },
  {
   "cell_type": "code",
   "execution_count": 12,
   "id": "25e98822-745a-4d5e-aec3-2054529b03e2",
   "metadata": {},
   "outputs": [
    {
     "data": {
      "text/plain": [
       "17"
      ]
     },
     "execution_count": 12,
     "metadata": {},
     "output_type": "execute_result"
    }
   ],
   "source": [
    "#This is a simple arithmetic expression to multiply then add integers\n",
    "(3*4)+5"
   ]
  },
  {
   "cell_type": "code",
   "execution_count": 13,
   "id": "dab78d96-8fd9-43c4-9977-102045a89ff2",
   "metadata": {},
   "outputs": [
    {
     "data": {
      "text/plain": [
       "3.3333333333333335"
      ]
     },
     "execution_count": 13,
     "metadata": {},
     "output_type": "execute_result"
    }
   ],
   "source": [
    "200/60"
   ]
  },
  {
   "cell_type": "code",
   "execution_count": null,
   "id": "1a1a6c05-045b-45d1-9d38-5f8787821ed2",
   "metadata": {},
   "outputs": [],
   "source": []
  },
  {
   "cell_type": "code",
   "execution_count": null,
   "id": "92ff4b08-95f9-4013-9646-039c748605a7",
   "metadata": {},
   "outputs": [],
   "source": []
  }
 ],
 "metadata": {
  "kernelspec": {
   "display_name": "Python [conda env:base] *",
   "language": "python",
   "name": "conda-base-py"
  },
  "language_info": {
   "codemirror_mode": {
    "name": "ipython",
    "version": 3
   },
   "file_extension": ".py",
   "mimetype": "text/x-python",
   "name": "python",
   "nbconvert_exporter": "python",
   "pygments_lexer": "ipython3",
   "version": "3.13.5"
  }
 },
 "nbformat": 4,
 "nbformat_minor": 5
}
